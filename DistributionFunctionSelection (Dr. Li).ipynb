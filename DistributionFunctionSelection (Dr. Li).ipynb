{
 "cells": [
  {
   "cell_type": "code",
   "execution_count": 2,
   "id": "f1ca1931-2ece-4733-859f-87f535edb7c4",
   "metadata": {},
   "outputs": [],
   "source": [
    "def DistributionFunctionSelection(refData,label,NOSamples,printOut,plot):\n",
    "\n",
    "    import numpy as np\n",
    "    import scipy as sp\n",
    "    import scipy.stats\n",
    "    import operator\n",
    "    import matplotlib.pyplot as plt\n",
    "\n",
    "    refData = np.sort(refData)\n",
    "    \n",
    "    DistributionFunctions = dir(sp.stats)\n",
    "\n",
    "    noDistribution = 0\n",
    "    FunctionEvaluations = {}\n",
    "    for DF in DistributionFunctions:\n",
    "\n",
    "    # outputs\n",
    "    # [theoretical quantiles, data], [slop, intercept, square root of the coefficient of determination]\n",
    "    #\n",
    "        try:\n",
    "            # (1) sort data from small to large\n",
    "            # (2) calculate theoretical quantiles using the distribution function\n",
    "            # (3) least-squares fit\n",
    "            [TheoreticalResults,data], FunctionEvaluations[DF] = sp.stats.probplot(refData, dist=DF, fit=True)\n",
    "            noDistribution += 1\n",
    "\n",
    "        except:\n",
    "            pass\n",
    "\n",
    "\n",
    "    indBestFit = np.argmax(np.array(list(FunctionEvaluations.values()))[:,-1])\n",
    "    BestFunctionName = list(FunctionEvaluations.keys())[indBestFit]\n",
    "    BestFunction = FunctionEvaluations[list(FunctionEvaluations.keys())[indBestFit]]\n",
    "\n",
    "\n",
    "    if(printOut):\n",
    "        print(\"Total number of distribution functions: \", noDistribution)\n",
    "        print(\"Distribution Function: \",BestFunctionName)\n",
    "    \n",
    "\n",
    "    [TheoreticalResults,data], [slop, intercept, r] = sp.stats.probplot(refData, dist=BestFunctionName, fit=True)\n",
    "\n",
    "\n",
    "    y_ = slop*TheoreticalResults + intercept\n",
    "    \n",
    "    \n",
    "    if(plot):\n",
    "        \n",
    "        fig, ax = plt.subplots(figsize=(8,9))\n",
    "\n",
    "        ax.plot(TheoreticalResults,y_,c=\"k\",lw=3)\n",
    "        ax.plot(TheoreticalResults,data,'o',ms=15)\n",
    "\n",
    "        props = dict(boxstyle='square', facecolor='white', alpha=0.5)\n",
    "        ax.text(0.08, 0.95, BestFunctionName + \" distribution\", transform=ax.transAxes, \n",
    "                fontsize=20,verticalalignment='top', bbox=props)\n",
    "        \n",
    "\n",
    "        ax.set_xlabel(\"Theoretical quantiles\", fontsize=30, labelpad=15)\n",
    "        #ax.set_ylabel(\"Sample quantiles, \"+label, fontsize=30, labelpad=10)\n",
    "        ax.set_ylabel(label, fontsize=30, labelpad=10)\n",
    "\n",
    "        ax.tick_params(axis='both', labelsize=25, pad = 10)\n",
    "        ax.locator_params(axis='x', nbins = 5)\n",
    "        ax.locator_params(axis='y', nbins = 5)\n",
    "        \n",
    "        ax.ticklabel_format(axis='y',style='sci', scilimits=(0,0))\n",
    "        ax.yaxis.offsetText.set_fontsize(20)\n",
    "        \n",
    "\n",
    "        fig.tight_layout()\n",
    "\n",
    "        plt.show()\n",
    "\n",
    "    \n",
    "    \n",
    "    function=getattr(sp.stats,BestFunctionName)\n",
    "    #print(function)\n",
    "    \n",
    "    samples = function.rvs(loc=0, scale=2*np.std(refData), size=NOSamples)\n",
    "    if((samples > 0).all()):\n",
    "        samples -= np.median(samples)\n",
    "    \n",
    "    samples += np.mean(refData)\n",
    "    \n",
    "    \n",
    "    return(BestFunctionName,samples)\n",
    "\n"
   ]
  },
  {
   "cell_type": "code",
   "execution_count": 5,
   "id": "b7914463-0b5e-4b5b-b601-b527ca9bd888",
   "metadata": {},
   "outputs": [],
   "source": [
    "import pandas as pd\n",
    "df = pd.read_csv('L0001.csv')"
   ]
  },
  {
   "cell_type": "code",
   "execution_count": 7,
   "id": "f602e78b-e1c6-4f90-a09c-f1ce4a91aa7c",
   "metadata": {},
   "outputs": [
    {
     "ename": "SyntaxError",
     "evalue": "invalid syntax (168857343.py, line 2)",
     "output_type": "error",
     "traceback": [
      "\u001b[1;36m  Cell \u001b[1;32mIn[7], line 2\u001b[1;36m\u001b[0m\n\u001b[1;33m    DistributionFunctionSelection():\u001b[0m\n\u001b[1;37m                                   ^\u001b[0m\n\u001b[1;31mSyntaxError\u001b[0m\u001b[1;31m:\u001b[0m invalid syntax\n"
     ]
    }
   ],
   "source": [
    "#DistributionFunctionSelection(refData,label,NOSamples,printOut,plot):\n",
    "DistributionFunctionSelection():"
   ]
  }
 ],
 "metadata": {
  "kernelspec": {
   "display_name": "Python 3 (ipykernel)",
   "language": "python",
   "name": "python3"
  },
  "language_info": {
   "codemirror_mode": {
    "name": "ipython",
    "version": 3
   },
   "file_extension": ".py",
   "mimetype": "text/x-python",
   "name": "python",
   "nbconvert_exporter": "python",
   "pygments_lexer": "ipython3",
   "version": "3.11.7"
  }
 },
 "nbformat": 4,
 "nbformat_minor": 5
}
