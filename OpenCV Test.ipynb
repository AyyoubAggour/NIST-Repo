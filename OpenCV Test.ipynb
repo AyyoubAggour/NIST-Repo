{
 "cells": [
  {
   "cell_type": "code",
   "execution_count": 1,
   "id": "0be95bbf-70be-4647-89fa-4117b3e2d5d0",
   "metadata": {},
   "outputs": [],
   "source": [
    "import cv2"
   ]
  },
  {
   "cell_type": "code",
   "execution_count": 2,
   "id": "cd9ff787-2401-401a-a3cd-e2015b81a2fd",
   "metadata": {},
   "outputs": [
    {
     "name": "stdout",
     "output_type": "stream",
     "text": [
      " This is a sample for histogram plotting for RGB images and grayscale images for better understanding of colour distribution\n",
      "\n",
      "Benefit : Learn how to draw histogram of images\n",
      "          Get familier with cv.calcHist, cv.equalizeHist,cv.normalize and some drawing functions\n",
      "\n",
      "Level : Beginner or Intermediate\n",
      "\n",
      "Functions : 1) hist_curve : returns histogram of an image drawn as curves\n",
      "            2) hist_lines : return histogram of an image drawn as bins ( only for grayscale images )\n",
      "\n",
      "Usage : python hist.py <image_file>\n",
      "\n",
      "Abid Rahman 3/14/12 debug Gary Bradski\n",
      "\n",
      "usage : python hist.py <image_file>\n",
      " Histogram plotting \n",
      "\n",
      "    Keymap :\n",
      "\n",
      "    a - show histogram for color image in curve mode \n",
      "\n",
      "    b - show histogram in bin mode \n",
      "\n",
      "    c - show equalized histogram (always in bin mode) \n",
      "\n",
      "    d - show histogram for gray image in curve mode \n",
      "\n",
      "    e - show histogram for a normalized image in curve mode \n",
      "\n",
      "    Esc - exit \n",
      "\n",
      "    \n",
      "a\n",
      "b\n",
      "hist_lines applicable only for grayscale images\n",
      "c\n",
      "d\n",
      "e\n",
      "a\n",
      "b\n",
      "hist_lines applicable only for grayscale images\n",
      "c\n",
      "d\n",
      "e\n",
      "a\n",
      "b\n",
      "hist_lines applicable only for grayscale images\n",
      "c\n",
      "d\n",
      "e\n",
      "ESC\n",
      "Done\n"
     ]
    },
    {
     "name": "stderr",
     "output_type": "stream",
     "text": [
      "[ WARN:0@0.018] global samples.cpp:61 cv::samples::findFile cv::samples::findFile('lena.jpg') => 'C:\\Users\\aka\\Downloads\\opencv-4.10.0\\opencv-4.10.0\\samples\\python/../..\\samples/data\\lena.jpg'\n"
     ]
    }
   ],
   "source": [
    "!cd C:\\Users\\aka\\Downloads\\opencv-4.10.0\\opencv-4.10.0\\samples\\python & python hist.py"
   ]
  },
  {
   "cell_type": "code",
   "execution_count": null,
   "id": "389fc9b9-f77d-4832-a74f-58a689d46bda",
   "metadata": {},
   "outputs": [],
   "source": [
    "!cd C:\\Users\\aka\\Downloads\\opencv-4.10.0\\opencv-4.10.0\\samples\\python & python opt_flow.py"
   ]
  },
  {
   "cell_type": "code",
   "execution_count": null,
   "id": "7d3e1300-8720-4a36-b896-3ae185d7dd74",
   "metadata": {},
   "outputs": [],
   "source": [
    "!cd C:\\Users\\aka\\Downloads\\opencv-4.10.0\\opencv-4.10.0\\samples\\python & python peopledetect.py"
   ]
  }
 ],
 "metadata": {
  "kernelspec": {
   "display_name": "Python 3 (ipykernel)",
   "language": "python",
   "name": "python3"
  },
  "language_info": {
   "codemirror_mode": {
    "name": "ipython",
    "version": 3
   },
   "file_extension": ".py",
   "mimetype": "text/x-python",
   "name": "python",
   "nbconvert_exporter": "python",
   "pygments_lexer": "ipython3",
   "version": "3.11.7"
  }
 },
 "nbformat": 4,
 "nbformat_minor": 5
}
